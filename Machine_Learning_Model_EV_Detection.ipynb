{
  "nbformat": 4,
  "nbformat_minor": 0,
  "metadata": {
    "colab": {
      "provenance": [],
      "authorship_tag": "ABX9TyPM/HtWlxjQiayh+sQ2SrK0",
      "include_colab_link": true
    },
    "kernelspec": {
      "name": "python3",
      "display_name": "Python 3"
    },
    "language_info": {
      "name": "python"
    }
  },
  "cells": [
    {
      "cell_type": "markdown",
      "metadata": {
        "id": "view-in-github",
        "colab_type": "text"
      },
      "source": [
        "<a href=\"https://colab.research.google.com/github/hamig0har/EV-Detection-from-Energy-Consumption-Data/blob/main/Machine_Learning_Model_EV_Detection.ipynb\" target=\"_parent\"><img src=\"https://colab.research.google.com/assets/colab-badge.svg\" alt=\"Open In Colab\"/></a>"
      ]
    },
    {
      "cell_type": "code",
      "execution_count": null,
      "metadata": {
        "colab": {
          "base_uri": "https://localhost:8080/"
        },
        "id": "aKIenwzGshyb",
        "outputId": "181439a3-bc57-4300-cd8e-127a61b2014e"
      },
      "outputs": [
        {
          "output_type": "stream",
          "name": "stdout",
          "text": [
            "   dataid             local_15min  air1  air2  air3  airwindowunit1  \\\n",
            "0     661  2018-11-21 15:15:00-06   0.0   NaN   NaN             NaN   \n",
            "1     661  2018-11-21 15:30:00-06   0.0   NaN   NaN             NaN   \n",
            "2     661  2018-11-21 15:45:00-06   0.0   NaN   NaN             NaN   \n",
            "3     661  2018-11-21 16:00:00-06   0.0   NaN   NaN             NaN   \n",
            "4     661  2018-11-21 16:15:00-06   0.0   NaN   NaN             NaN   \n",
            "\n",
            "   aquarium1  bathroom1  bathroom2  bedroom1  ...  sprinkler1  sumppump1  \\\n",
            "0        NaN        NaN        NaN       NaN  ...         NaN        NaN   \n",
            "1        NaN        NaN        NaN       NaN  ...         NaN        NaN   \n",
            "2        NaN        NaN        NaN       NaN  ...         NaN        NaN   \n",
            "3        NaN        NaN        NaN       NaN  ...         NaN        NaN   \n",
            "4        NaN        NaN        NaN       NaN  ...         NaN        NaN   \n",
            "\n",
            "   utilityroom1  venthood1  waterheater1  waterheater2  wellpump1  \\\n",
            "0           NaN        NaN           NaN           NaN        NaN   \n",
            "1           NaN        NaN           NaN           NaN        NaN   \n",
            "2           NaN        NaN           NaN           NaN        NaN   \n",
            "3           NaN        NaN           NaN           NaN        NaN   \n",
            "4           NaN        NaN           NaN           NaN        NaN   \n",
            "\n",
            "   winecooler1    leg1v    leg2v  \n",
            "0          NaN  123.915  124.277  \n",
            "1          NaN  123.959  124.293  \n",
            "2          NaN  123.886  124.240  \n",
            "3          NaN  123.880  124.175  \n",
            "4          NaN  123.633  124.226  \n",
            "\n",
            "[5 rows x 79 columns]                                               dataid  \\\n",
            "0  The unique identifier for the home. To be more...   \n",
            "1                                               2836   \n",
            "2                                               2743   \n",
            "3                                               5323   \n",
            "4                                               8560   \n",
            "\n",
            "                                       active_record  \\\n",
            "0  this field will show yes if this participant i...   \n",
            "1                                                NaN   \n",
            "2                                                NaN   \n",
            "3                                                NaN   \n",
            "4                                                NaN   \n",
            "\n",
            "                                       building_type                city  \\\n",
            "0  This field will read Single-Family Home if thi...  participant's city   \n",
            "1                    Single-Family Home 001 (Master)              Austin   \n",
            "2                    Single-Family Home 001 (Master)              Austin   \n",
            "3                    Single-Family Home 001 (Master)              Austin   \n",
            "4                    Single-Family Home 001 (Master)              Austin   \n",
            "\n",
            "                 state                               egauge_1min_min_time  \\\n",
            "0  participant's state  If eGauge electricity data is present, this fi...   \n",
            "1                Texas                                                NaN   \n",
            "2                Texas                                                NaN   \n",
            "3                Texas                                                NaN   \n",
            "4                Texas                                                NaN   \n",
            "\n",
            "                                egauge_1min_max_time  \\\n",
            "0  If eGauge electricity data is present, this fi...   \n",
            "1                                                NaN   \n",
            "2                                                NaN   \n",
            "3                                                NaN   \n",
            "4                                                NaN   \n",
            "\n",
            "                       egauge_1min_data_availability  \\\n",
            "0  This field shows how much one minute data  is ...   \n",
            "1                                                NaN   \n",
            "2                                                NaN   \n",
            "3                                                NaN   \n",
            "4                                                NaN   \n",
            "\n",
            "                                  egauge_1s_min_time  \\\n",
            "0  If eGauge electricity data is present in one s...   \n",
            "1                                                NaN   \n",
            "2                                                NaN   \n",
            "3                                                NaN   \n",
            "4                                                NaN   \n",
            "\n",
            "                                  egauge_1s_max_time  ...  \\\n",
            "0  If eGauge electricity data is present in one s...  ...   \n",
            "1                                                NaN  ...   \n",
            "2                                                NaN  ...   \n",
            "3                                                NaN  ...   \n",
            "4                                                NaN  ...   \n",
            "\n",
            "                                    program_baseline  \\\n",
            "0  This field will show 'yes' if this participant...   \n",
            "1                                                NaN   \n",
            "2                                                NaN   \n",
            "3                                                yes   \n",
            "4                                                yes   \n",
            "\n",
            "                        program_energy_internet_demo  \\\n",
            "0  This field will show 'yes' if this participant...   \n",
            "1                                                yes   \n",
            "2                                                yes   \n",
            "3                                                yes   \n",
            "4                                                yes   \n",
            "\n",
            "                                program_lg_appliance  \\\n",
            "0  This field will show 'yes' if this participant...   \n",
            "1                                                NaN   \n",
            "2                                                NaN   \n",
            "3                                                NaN   \n",
            "4                                                NaN   \n",
            "\n",
            "                                     program_verizon  \\\n",
            "0  This field will show 'yes' if this participant...   \n",
            "1                                                NaN   \n",
            "2                                                NaN   \n",
            "3                                                NaN   \n",
            "4                                                NaN   \n",
            "\n",
            "                                  program_ccet_group  \\\n",
            "0  This field will show one of the following grou...   \n",
            "1                                                NaN   \n",
            "2                                                NaN   \n",
            "3                                                NaN   \n",
            "4                                                NaN   \n",
            "\n",
            "                                program_civita_group  \\\n",
            "0  This field will show one of the following grou...   \n",
            "1                                                NaN   \n",
            "2                                                NaN   \n",
            "3                                                NaN   \n",
            "4                                                NaN   \n",
            "\n",
            "                                      program_shines  \\\n",
            "0  This field will show 'yes' if this participant...   \n",
            "1                                                NaN   \n",
            "2                                                NaN   \n",
            "3                                                NaN   \n",
            "4                                                NaN   \n",
            "\n",
            "                               energy_storage_system  \\\n",
            "0  eGauge data present for a battery or other typ...   \n",
            "1                                                NaN   \n",
            "2                                                NaN   \n",
            "3                                                NaN   \n",
            "4                                                NaN   \n",
            "\n",
            "                            energy_storage_system_l1  \\\n",
            "0  eGauge data present for leg 1 of a battery or ...   \n",
            "1                                                NaN   \n",
            "2                                                NaN   \n",
            "3                                                NaN   \n",
            "4                                                NaN   \n",
            "\n",
            "                            energy_storage_system_l2  \n",
            "0  eGauge data present for leg 2 of a battery or ...  \n",
            "1                                                NaN  \n",
            "2                                                NaN  \n",
            "3                                                NaN  \n",
            "4                                                NaN  \n",
            "\n",
            "[5 rows x 130 columns]\n"
          ]
        }
      ],
      "source": [
        "import pandas as pd\n",
        "\n",
        "# Attempt to load data\n",
        "austin_data = pd.read_csv('/content/sample_data/15minute_data_austin.csv')\n",
        "metadata = pd.read_csv('/content/sample_data/metadata.csv')\n",
        "\n",
        "# Display the first few rows to inspect the data\n",
        "austin_data_head = austin_data.head()\n",
        "metadata_head = metadata.head()\n",
        "\n",
        "print(austin_data_head, metadata_head)\n"
      ]
    },
    {
      "cell_type": "markdown",
      "source": [
        "**Data Pre-Processing**\n",
        "\n",
        "-Handling Missing Values: Impute missing values with zeros for energy consumption columns, assuming no consumption or measurement was recorded.\n",
        "\n",
        "-Sum the energy values across all consumption columns for each row to create the \"total energy consumption\" feature.\n",
        "\n",
        "-Label the dataset with 1 for houses with an EV and 0 for those without, based on the dataids"
      ],
      "metadata": {
        "id": "_MFbvdLszSKS"
      }
    },
    {
      "cell_type": "code",
      "source": [
        "import numpy as np\n",
        "\n",
        "# Assuming you've already loaded your datasets\n",
        "# austin_data = pd.read_csv('/content/15minute_data_austin.csv')\n",
        "\n",
        "# Step 1: Handle Missing Values\n",
        "energy_columns = austin_data.columns[2:]  # Adjust if the structure is different\n",
        "austin_data[energy_columns] = austin_data[energy_columns].fillna(0)\n",
        "print(\"Step 1: Missing values handled.\")\n",
        "\n",
        "# Step 2: Add a 'total_energy' Column\n",
        "austin_data['total_energy'] = austin_data[energy_columns].sum(axis=1)\n",
        "print(\"Step 2: 'total_energy' column added. Sample data:\\n\", austin_data[['dataid', 'total_energy']].head())\n",
        "\n",
        "# Step 3: Label the Data\n",
        "ev_houses = [661, 1642, 2335, 4373, 4767, 6139, 7719, 8156, 9278]\n",
        "austin_data['has_ev'] = austin_data['dataid'].apply(lambda x: 1 if x in ev_houses else 0)\n",
        "print(\"Step 3: Data labeled. Distribution of labels:\\n\", austin_data['has_ev'].value_counts())\n",
        "\n",
        "# Verification of preprocessing\n",
        "print(\"\\nPreprocessing verification complete. Sample data:\\n\", austin_data.head())\n",
        "\n",
        "\n"
      ],
      "metadata": {
        "colab": {
          "base_uri": "https://localhost:8080/"
        },
        "id": "3d-hCCDNzXq_",
        "outputId": "a148346f-ce14-4c60-da8e-83bc94a2a9f7"
      },
      "execution_count": null,
      "outputs": [
        {
          "output_type": "stream",
          "name": "stdout",
          "text": [
            "Step 1: Missing values handled.\n",
            "Step 2: 'total_energy' column added. Sample data:\n",
            "    dataid  total_energy\n",
            "0     661       248.593\n",
            "1     661       248.671\n",
            "2     661       248.725\n",
            "3     661       248.971\n",
            "4     661       249.042\n",
            "Step 3: Data labeled. Distribution of labels:\n",
            " 0    559712\n",
            "1    313574\n",
            "Name: has_ev, dtype: int64\n",
            "\n",
            "Preprocessing verification complete. Sample data:\n",
            "    dataid             local_15min  air1  air2  air3  airwindowunit1  \\\n",
            "0     661  2018-11-21 15:15:00-06   0.0   0.0   0.0             0.0   \n",
            "1     661  2018-11-21 15:30:00-06   0.0   0.0   0.0             0.0   \n",
            "2     661  2018-11-21 15:45:00-06   0.0   0.0   0.0             0.0   \n",
            "3     661  2018-11-21 16:00:00-06   0.0   0.0   0.0             0.0   \n",
            "4     661  2018-11-21 16:15:00-06   0.0   0.0   0.0             0.0   \n",
            "\n",
            "   aquarium1  bathroom1  bathroom2  bedroom1  ...  utilityroom1  venthood1  \\\n",
            "0        0.0        0.0        0.0       0.0  ...           0.0        0.0   \n",
            "1        0.0        0.0        0.0       0.0  ...           0.0        0.0   \n",
            "2        0.0        0.0        0.0       0.0  ...           0.0        0.0   \n",
            "3        0.0        0.0        0.0       0.0  ...           0.0        0.0   \n",
            "4        0.0        0.0        0.0       0.0  ...           0.0        0.0   \n",
            "\n",
            "   waterheater1  waterheater2  wellpump1  winecooler1    leg1v    leg2v  \\\n",
            "0           0.0           0.0        0.0          0.0  123.915  124.277   \n",
            "1           0.0           0.0        0.0          0.0  123.959  124.293   \n",
            "2           0.0           0.0        0.0          0.0  123.886  124.240   \n",
            "3           0.0           0.0        0.0          0.0  123.880  124.175   \n",
            "4           0.0           0.0        0.0          0.0  123.633  124.226   \n",
            "\n",
            "   total_energy  has_ev  \n",
            "0       248.593       1  \n",
            "1       248.671       1  \n",
            "2       248.725       1  \n",
            "3       248.971       1  \n",
            "4       249.042       1  \n",
            "\n",
            "[5 rows x 81 columns]\n"
          ]
        }
      ]
    },
    {
      "cell_type": "markdown",
      "source": [
        "**Feature Selection**\n",
        "\n",
        "Considering that our primary interest is in predicting whether a house has an EV based on energy consumption, the total_energy column we added will be our main feature. However, if we decide that the time of day is significant (for instance, overnight charging might indicate an EV), we might also want to extract features from the local_15min timestamp, such as hour of the day. For simplicity, let's start with total_energy as our main feature.\n",
        "\n",
        "**Why Random Forest?**\n",
        "\n",
        "* Familiarity: Used Random Forest before so a good starting point\n",
        "\n",
        "* Flexibility: Can handle both numerical and categorical variables well.\n",
        "\n",
        "\n",
        "* Ease of Use: It's straightforward to implement and tune compared to Neural Networks"
      ],
      "metadata": {
        "id": "3kj0c2xMVSN8"
      }
    },
    {
      "cell_type": "code",
      "source": [
        "from sklearn.model_selection import train_test_split\n",
        "from sklearn.ensemble import RandomForestClassifier\n",
        "from sklearn.metrics import accuracy_score\n",
        "\n",
        "\n",
        "# Assuming 'austin_data' is your preprocessed DataFrame\n",
        "features = ['total_energy']  # You can add more features here as shown below\n",
        "X = austin_data[features]\n",
        "y = austin_data['has_ev']\n",
        "\n",
        "# Splitting the dataset into training (80%) and testing (20%) sets\n",
        "X_train, X_test, y_train, y_test = train_test_split(X, y, test_size=0.2, random_state=42)\n",
        "\n",
        "# Model training\n",
        "rf = RandomForestClassifier(n_estimators=100, random_state=42)\n",
        "rf.fit(X_train, y_train)\n",
        "print(\"Model training complete.\")\n",
        "\n",
        "# Making predictions on the testing set\n",
        "y_pred = rf.predict(X_test)\n",
        "\n",
        "# Model evaluation\n",
        "accuracy = accuracy_score(y_test, y_pred)\n",
        "print(f\"Model accuracy: {accuracy:.2f}\")\n"
      ],
      "metadata": {
        "id": "1bJYd-3LV8Dg"
      },
      "execution_count": null,
      "outputs": []
    },
    {
      "cell_type": "markdown",
      "source": [
        "Extra code written to extract features from **local_15min column**\n",
        "\n",
        "This code carries over from our earlier discussion of edge detection and the trends we saw when we inspected that.\n",
        "\n",
        "Some features which we noticed when we inspected the ATCO dataset were **hours of day** when the EV charger went on. And we noticed that **weekday and weekend patterns** were slightly different.\n",
        "\n",
        "We could extract these features from this particular dataset since it does give local 15 minute data alongside the date"
      ],
      "metadata": {
        "id": "CTZUkYenX7he"
      }
    },
    {
      "cell_type": "code",
      "source": [
        "# Convert 'local_15min' to datetime\n",
        "austin_data['local_15min'] = pd.to_datetime(austin_data['local_15min'], errors='coerce', utc=True)\n",
        "\n",
        "# Extracting time features\n",
        "austin_data['hour'] = austin_data['local_15min'].dt.hour  # Hour of the day\n",
        "austin_data['day_of_week'] = austin_data['local_15min'].dt.dayofweek  # Day of the week, Monday=0, Sunday=6\n",
        "austin_data['is_weekend'] = austin_data['day_of_week'].apply(lambda x: 1 if x > 4 else 0)  # Weekend or not\n",
        "\n",
        "# Verify the extracted features\n",
        "print(austin_data[['local_15min', 'hour', 'day_of_week', 'is_weekend']].head())\n",
        "\n",
        "\n",
        "features = ['total_energy', 'hour', 'is_weekend']  # Adjust features as needed\n",
        "X = austin_data[features]\n",
        "y = austin_data['has_ev']\n"
      ],
      "metadata": {
        "id": "7fndHfZVX59B"
      },
      "execution_count": null,
      "outputs": []
    },
    {
      "cell_type": "markdown",
      "source": [
        "**Further Evaluation of the model:**\n",
        "\n",
        "\n",
        "**Precision, Recall, and F1 Score**:\n",
        "\n",
        "\n",
        "*   Precision tells you out of all the instances the model predicted as positive, how many are actually positive.\n",
        "\n",
        "*   Recall (or sensitivity) measures how many of the actual positives the model is able to identify.\n",
        "\n",
        "\n",
        "*   F1 Score is the harmonic mean of precision and recall, providing a single metric to assess balance between them.\n",
        "\n",
        "**ROC Curve and AUC**\n",
        "\n",
        "The ROC Curve plots the true positive rate against the false positive rate at various threshold settings.\n",
        "The Area Under the Curve (AUC) provides a single measure of how well the prediction model can distinguish between classes. Higher AUC indicates a better model.\n",
        "\n",
        "\n",
        "\n",
        "\n"
      ],
      "metadata": {
        "id": "bhDjzda5hUBy"
      }
    },
    {
      "cell_type": "code",
      "source": [
        "from sklearn.metrics import confusion_matrix, classification_report, roc_auc_score, roc_curve\n",
        "import matplotlib.pyplot as plt\n",
        "\n",
        "\n",
        "# Precision, Recall, F1 Score\n",
        "class_report = classification_report(y_test, y_pred)\n",
        "print(\"Classification Report:\\n\", class_report)\n",
        "\n",
        "# ROC Curve and AUC\n",
        "# Note: roc_curve and roc_auc_score are applicable for binary classification\n",
        "if len(y_test.unique()) == 2:  # Checking if the task is binary classification\n",
        "    y_pred_proba = rf.predict_proba(X_test)[:, 1]  # Probability estimates for the positive class\n",
        "    roc_auc = roc_auc_score(y_test, y_pred_proba)\n",
        "    fpr, tpr, thresholds = roc_curve(y_test, y_pred_proba)\n",
        "\n",
        "    plt.figure()\n",
        "    plt.plot(fpr, tpr, label='ROC curve (area = %0.2f)' % roc_auc)\n",
        "    plt.plot([0, 1], [0, 1], 'k--')  # Random predictions curve\n",
        "    plt.xlim([0.0, 1.0])\n",
        "    plt.ylim([0.0, 1.05])\n",
        "    plt.xlabel('False Positive Rate')\n",
        "    plt.ylabel('True Positive Rate')\n",
        "    plt.title('Receiver Operating Characteristic (ROC)')\n",
        "    plt.legend(loc=\"lower right\")\n",
        "    plt.show()\n",
        "else:\n",
        "    print(\"ROC and AUC are not calculated for non-binary tasks.\")\n"
      ],
      "metadata": {
        "colab": {
          "base_uri": "https://localhost:8080/",
          "height": 646
        },
        "id": "XIrL2d70hXcV",
        "outputId": "e522a1be-e148-4e40-cbeb-df18f090990d"
      },
      "execution_count": null,
      "outputs": [
        {
          "output_type": "stream",
          "name": "stdout",
          "text": [
            "Classification Report:\n",
            "               precision    recall  f1-score   support\n",
            "\n",
            "           0       0.67      0.91      0.77    112391\n",
            "           1       0.56      0.21      0.30     62267\n",
            "\n",
            "    accuracy                           0.66    174658\n",
            "   macro avg       0.62      0.56      0.54    174658\n",
            "weighted avg       0.63      0.66      0.61    174658\n",
            "\n"
          ]
        },
        {
          "output_type": "display_data",
          "data": {
            "text/plain": [
              "<Figure size 640x480 with 1 Axes>"
            ],
            "image/png": "[encoded data removed]"
          },
          "metadata": {}
        }
      ]
    },
    {
      "cell_type": "markdown",
      "source": [
        "**Discussion of results:**\n",
        "\n",
        "* Precision for class 0 (no EV) is 0.67, meaning that when the model predicts a house does not have an EV, it is correct 67% of the time.\n",
        "* Precision for class 1 (has EV) is 0.56, meaning that when the model predicts a house has an EV, it is correct 56% of the time.\n",
        "* Recall for class 0 is 0.91, indicating the model correctly identifies 91% of all actual no-EV instances.\n",
        "* Recall for class 1 is 0.21, showing the model correctly identifies only 21% of all actual EV instances.\n",
        "* F1-Score is a balance between precision and recall. For class 0, it's 0.77, which is relatively high, but for class 1, it's 0.30, indicating a poor balance for the EV class.\n",
        "\n",
        "**The ROC-AUC graph**\n",
        "\n",
        "* AUC = 0.5: The model has no discrimination capacity to distinguish between positive and negative class. It's as good as random guessing.\n",
        "* 0.5 < AUC < 1.0: The model has a better than random chance of making correct predictions. The closer the AUC is to 1, the better it is. An AUC of 1 means the model perfectly distinguishes between all positive and negative class instances.\n",
        "* AUC = 0.64: The model has a certain capacity to differentiate between houses with and without EVs, but there's significant room for improvement. It's better than random guessing but far from perfect.\n",
        "\n",
        "**Biggest issues:**\n",
        "\n",
        "* **High False Negatives:** A significant number of houses with EVs are being misclassified as not having EVs. This indicates a recall issue, particularly for the positive class (houses with EVs), where the model fails to capture most of the positive cases.\n",
        "\n",
        "* **Unbalanced Precision and Recall:** The precision for predicting houses without EVs is reasonably good, but the recall for houses with EVs is quite low. This imbalance suggests that while the model is conservative in predicting a house has an EV (leading to a lower false positive rate), it also misses a lot of actual EV cases (high false negative rate).\n",
        "\n",
        "**Reasons for the models perfomance:**\n",
        "\n",
        "* **Lack of Features:** Relying solely on total_energy as the predictive feature might not capture all the nuances necessary to distinguish between houses with and without EVs. The energy consumption patterns might be too subtle or varied to be captured by a single aggregate value.\n",
        "\n",
        "* **Time Ignored:** Time-based patterns in energy consumption will be crucial for identifying EV charging as seen from the observed ATCO data, especially since charging often occurs during specific times (e.g., overnight). Ignoring time-related features means missing out on potentially predictive patterns.\n",
        "\n",
        "* **Complex Patterns Missed:** A more sophisticated model or additional features may capture patterns that might be missed in a random forest.\n",
        "\n",
        "* **Data Imbalance:** If the dataset has a lot more instances of one class over the other, it could lead the model to be biased towards predicting the majority class. This seems to be reflected in the higher accuracy in predicting houses without EVs compared to those with EVs. So not only do we have limited data for EV homes, but we also have too much of one class (non-ev homes)"
      ],
      "metadata": {
        "id": "zL6RLIL6qXxn"
      }
    },
    {
      "cell_type": "markdown",
      "source": [
        "# **Next Steps**\n",
        "\n",
        "**Feature Engineering:** Incorporating time-based features and perhaps looking into more granular energy consumption metrics or patterns over time could improve model performance.\n",
        "\n",
        "**Address Data Imbalance:** By combining the New York Data set with this Austin dataset we will further enhance the overall data that we have for training and combining the ATCO data will help further.\n",
        "\n",
        "To address the imbalance we could just get rid of some houses that dont have an EV as seen in the data.\n",
        "\n",
        "**Model Complexity:** Exploring more complex models that can capture temporal patterns and interactions between features might yield better results. Models like Neural Networks or even time series analysis methods could be considered.\n",
        "\n",
        "**Discussion with Academic Advisor to get his insight.**\n",
        "\n"
      ],
      "metadata": {
        "id": "QRiZ0D8ZtrNF"
      }
    },
    {
      "cell_type": "markdown",
      "source": [
        "**Further Enhancements on the Random Forest Model**"
      ],
      "metadata": {
        "id": "_rTu48EGNVDz"
      }
    },
    {
      "cell_type": "code",
      "source": [
        "import pandas as pd\n",
        "import numpy as np\n",
        "import matplotlib.pyplot as plt\n",
        "from sklearn.model_selection import train_test_split\n",
        "from sklearn.ensemble import RandomForestClassifier\n",
        "from sklearn.metrics import accuracy_score, confusion_matrix, classification_report, roc_auc_score, roc_curve"
      ],
      "metadata": {
        "id": "GIolVCdxNOP0"
      },
      "execution_count": null,
      "outputs": []
    },
    {
      "cell_type": "markdown",
      "source": [
        "**Step 2: Loading and Inspecting the Data**\n",
        "Load dataset into pandas DataFrames. This code assumes the dataset and metadata are stored in CSV files."
      ],
      "metadata": {
        "id": "IakT5rflNdiY"
      }
    },
    {
      "cell_type": "code",
      "source": [
        "# Load data\n",
        "austin_data = pd.read_csv('/content/sample_data/15minute_data_austin.csv')\n",
        "metadata = pd.read_csv('/content/sample_data/metadata.csv')\n",
        "\n",
        "# Display the first few rows to inspect the data\n",
        "print(austin_data.head())\n",
        "print(metadata.head())\n"
      ],
      "metadata": {
        "colab": {
          "base_uri": "https://localhost:8080/"
        },
        "id": "SAnarPiQNbvP",
        "outputId": "b5f1c23c-9be8-4d54-dbc4-d52bd86e41d6"
      },
      "execution_count": null,
      "outputs": [
        {
          "output_type": "stream",
          "name": "stdout",
          "text": [
            "   dataid             local_15min  air1  air2  air3  airwindowunit1  \\\n",
            "0     661  2018-11-21 15:15:00-06   0.0   NaN   NaN             NaN   \n",
            "1     661  2018-11-21 15:30:00-06   0.0   NaN   NaN             NaN   \n",
            "2     661  2018-11-21 15:45:00-06   0.0   NaN   NaN             NaN   \n",
            "3     661  2018-11-21 16:00:00-06   0.0   NaN   NaN             NaN   \n",
            "4     661  2018-11-21 16:15:00-06   0.0   NaN   NaN             NaN   \n",
            "\n",
            "   aquarium1  bathroom1  bathroom2  bedroom1  ...  sprinkler1  sumppump1  \\\n",
            "0        NaN        NaN        NaN       NaN  ...         NaN        NaN   \n",
            "1        NaN        NaN        NaN       NaN  ...         NaN        NaN   \n",
            "2        NaN        NaN        NaN       NaN  ...         NaN        NaN   \n",
            "3        NaN        NaN        NaN       NaN  ...         NaN        NaN   \n",
            "4        NaN        NaN        NaN       NaN  ...         NaN        NaN   \n",
            "\n",
            "   utilityroom1  venthood1  waterheater1  waterheater2  wellpump1  \\\n",
            "0           NaN        NaN           NaN           NaN        NaN   \n",
            "1           NaN        NaN           NaN           NaN        NaN   \n",
            "2           NaN        NaN           NaN           NaN        NaN   \n",
            "3           NaN        NaN           NaN           NaN        NaN   \n",
            "4           NaN        NaN           NaN           NaN        NaN   \n",
            "\n",
            "   winecooler1    leg1v    leg2v  \n",
            "0          NaN  123.915  124.277  \n",
            "1          NaN  123.959  124.293  \n",
            "2          NaN  123.886  124.240  \n",
            "3          NaN  123.880  124.175  \n",
            "4          NaN  123.633  124.226  \n",
            "\n",
            "[5 rows x 79 columns]\n",
            "                                              dataid  \\\n",
            "0  The unique identifier for the home. To be more...   \n",
            "1                                               2836   \n",
            "2                                               2743   \n",
            "3                                               5323   \n",
            "4                                               8560   \n",
            "\n",
            "                                       active_record  \\\n",
            "0  this field will show yes if this participant i...   \n",
            "1                                                NaN   \n",
            "2                                                NaN   \n",
            "3                                                NaN   \n",
            "4                                                NaN   \n",
            "\n",
            "                                       building_type                city  \\\n",
            "0  This field will read Single-Family Home if thi...  participant's city   \n",
            "1                    Single-Family Home 001 (Master)              Austin   \n",
            "2                    Single-Family Home 001 (Master)              Austin   \n",
            "3                    Single-Family Home 001 (Master)              Austin   \n",
            "4                    Single-Family Home 001 (Master)              Austin   \n",
            "\n",
            "                 state                               egauge_1min_min_time  \\\n",
            "0  participant's state  If eGauge electricity data is present, this fi...   \n",
            "1                Texas                                                NaN   \n",
            "2                Texas                                                NaN   \n",
            "3                Texas                                                NaN   \n",
            "4                Texas                                                NaN   \n",
            "\n",
            "                                egauge_1min_max_time  \\\n",
            "0  If eGauge electricity data is present, this fi...   \n",
            "1                                                NaN   \n",
            "2                                                NaN   \n",
            "3                                                NaN   \n",
            "4                                                NaN   \n",
            "\n",
            "                       egauge_1min_data_availability  \\\n",
            "0  This field shows how much one minute data  is ...   \n",
            "1                                                NaN   \n",
            "2                                                NaN   \n",
            "3                                                NaN   \n",
            "4                                                NaN   \n",
            "\n",
            "                                  egauge_1s_min_time  \\\n",
            "0  If eGauge electricity data is present in one s...   \n",
            "1                                                NaN   \n",
            "2                                                NaN   \n",
            "3                                                NaN   \n",
            "4                                                NaN   \n",
            "\n",
            "                                  egauge_1s_max_time  ...  \\\n",
            "0  If eGauge electricity data is present in one s...  ...   \n",
            "1                                                NaN  ...   \n",
            "2                                                NaN  ...   \n",
            "3                                                NaN  ...   \n",
            "4                                                NaN  ...   \n",
            "\n",
            "                                    program_baseline  \\\n",
            "0  This field will show 'yes' if this participant...   \n",
            "1                                                NaN   \n",
            "2                                                NaN   \n",
            "3                                                yes   \n",
            "4                                                yes   \n",
            "\n",
            "                        program_energy_internet_demo  \\\n",
            "0  This field will show 'yes' if this participant...   \n",
            "1                                                yes   \n",
            "2                                                yes   \n",
            "3                                                yes   \n",
            "4                                                yes   \n",
            "\n",
            "                                program_lg_appliance  \\\n",
            "0  This field will show 'yes' if this participant...   \n",
            "1                                                NaN   \n",
            "2                                                NaN   \n",
            "3                                                NaN   \n",
            "4                                                NaN   \n",
            "\n",
            "                                     program_verizon  \\\n",
            "0  This field will show 'yes' if this participant...   \n",
            "1                                                NaN   \n",
            "2                                                NaN   \n",
            "3                                                NaN   \n",
            "4                                                NaN   \n",
            "\n",
            "                                  program_ccet_group  \\\n",
            "0  This field will show one of the following grou...   \n",
            "1                                                NaN   \n",
            "2                                                NaN   \n",
            "3                                                NaN   \n",
            "4                                                NaN   \n",
            "\n",
            "                                program_civita_group  \\\n",
            "0  This field will show one of the following grou...   \n",
            "1                                                NaN   \n",
            "2                                                NaN   \n",
            "3                                                NaN   \n",
            "4                                                NaN   \n",
            "\n",
            "                                      program_shines  \\\n",
            "0  This field will show 'yes' if this participant...   \n",
            "1                                                NaN   \n",
            "2                                                NaN   \n",
            "3                                                NaN   \n",
            "4                                                NaN   \n",
            "\n",
            "                               energy_storage_system  \\\n",
            "0  eGauge data present for a battery or other typ...   \n",
            "1                                                NaN   \n",
            "2                                                NaN   \n",
            "3                                                NaN   \n",
            "4                                                NaN   \n",
            "\n",
            "                            energy_storage_system_l1  \\\n",
            "0  eGauge data present for leg 1 of a battery or ...   \n",
            "1                                                NaN   \n",
            "2                                                NaN   \n",
            "3                                                NaN   \n",
            "4                                                NaN   \n",
            "\n",
            "                            energy_storage_system_l2  \n",
            "0  eGauge data present for leg 2 of a battery or ...  \n",
            "1                                                NaN  \n",
            "2                                                NaN  \n",
            "3                                                NaN  \n",
            "4                                                NaN  \n",
            "\n",
            "[5 rows x 130 columns]\n"
          ]
        }
      ]
    },
    {
      "cell_type": "markdown",
      "source": [
        "**Step 3: Data Preprocessing**\n",
        "Handle missing values, add a 'total_energy' column, and label the data based on the presence of EVs."
      ],
      "metadata": {
        "id": "4X3cia2DN0K_"
      }
    },
    {
      "cell_type": "code",
      "source": [
        "# Handle Missing Values\n",
        "austin_data.fillna(0, inplace=True)\n",
        "\n",
        "# Add 'total_energy' Column\n",
        "energy_columns = [col for col in austin_data.columns if col not in ['dataid', 'local_15min']]\n",
        "austin_data['total_energy'] = austin_data[energy_columns].sum(axis=1)\n",
        "\n",
        "# Label the Data\n",
        "ev_houses = [661, 1642, 2335, 4373, 4767, 6139, 7719, 8156, 9278]\n",
        "austin_data['has_ev'] = austin_data['dataid'].apply(lambda x: 1 if x in ev_houses else 0)\n",
        "\n",
        "# Verification of preprocessing\n",
        "print(\"\\nPreprocessing verification complete. Sample data:\\n\", austin_data.head())"
      ],
      "metadata": {
        "colab": {
          "base_uri": "https://localhost:8080/"
        },
        "id": "XThMEvAcN29W",
        "outputId": "e2084392-d06e-4e0a-d57b-8564213a74d6"
      },
      "execution_count": null,
      "outputs": [
        {
          "output_type": "stream",
          "name": "stdout",
          "text": [
            "\n",
            "Preprocessing verification complete. Sample data:\n",
            "    dataid             local_15min  air1  air2  air3  airwindowunit1  \\\n",
            "0     661  2018-11-21 15:15:00-06   0.0   0.0   0.0             0.0   \n",
            "1     661  2018-11-21 15:30:00-06   0.0   0.0   0.0             0.0   \n",
            "2     661  2018-11-21 15:45:00-06   0.0   0.0   0.0             0.0   \n",
            "3     661  2018-11-21 16:00:00-06   0.0   0.0   0.0             0.0   \n",
            "4     661  2018-11-21 16:15:00-06   0.0   0.0   0.0             0.0   \n",
            "\n",
            "   aquarium1  bathroom1  bathroom2  bedroom1  ...  utilityroom1  venthood1  \\\n",
            "0        0.0        0.0        0.0       0.0  ...           0.0        0.0   \n",
            "1        0.0        0.0        0.0       0.0  ...           0.0        0.0   \n",
            "2        0.0        0.0        0.0       0.0  ...           0.0        0.0   \n",
            "3        0.0        0.0        0.0       0.0  ...           0.0        0.0   \n",
            "4        0.0        0.0        0.0       0.0  ...           0.0        0.0   \n",
            "\n",
            "   waterheater1  waterheater2  wellpump1  winecooler1    leg1v    leg2v  \\\n",
            "0           0.0           0.0        0.0          0.0  123.915  124.277   \n",
            "1           0.0           0.0        0.0          0.0  123.959  124.293   \n",
            "2           0.0           0.0        0.0          0.0  123.886  124.240   \n",
            "3           0.0           0.0        0.0          0.0  123.880  124.175   \n",
            "4           0.0           0.0        0.0          0.0  123.633  124.226   \n",
            "\n",
            "   total_energy  has_ev  \n",
            "0       498.186       1  \n",
            "1       498.342       1  \n",
            "2       498.450       1  \n",
            "3       498.942       1  \n",
            "4       499.084       1  \n",
            "\n",
            "[5 rows x 81 columns]\n"
          ]
        }
      ]
    },
    {
      "cell_type": "markdown",
      "source": [
        "**Step 4: Extracting Time-based Features**\n",
        "Convert the 'local_15min' column to datetime and extract relevant time-based features.\n",
        "\n",
        "Some features which we noticed when we inspected the ATCO dataset were hours of day when the EV charger went on. And we noticed that weekday and weekend patterns were slightly different.\n",
        "\n",
        "We could extract these features from this particular dataset since it does give local 15 minute data alongside the date\n",
        "\n",
        "**THIS IS WHERE IMPROVEMENTS NEED TO BE MADE TO ENHANCE THE MODELS CAPABILITIES, AS MENTIONED IN THE REPORT**"
      ],
      "metadata": {
        "id": "0Dqnw0qHN8jK"
      }
    },
    {
      "cell_type": "code",
      "source": [
        "# Convert 'local_15min' to datetime\n",
        "austin_data['local_15min'] = pd.to_datetime(austin_data['local_15min'], errors='coerce', utc=True)\n",
        "\n",
        "# Extract time features\n",
        "austin_data['hour'] = austin_data['local_15min'].dt.hour # Hour of the day\n",
        "austin_data['day_of_week'] = austin_data['local_15min'].dt.dayofweek # Day of the week, Monday=0, Sunday=6\n",
        "austin_data['is_weekend'] = austin_data['day_of_week'].apply(lambda x: 1 if x > 4 else 0) # Weekend or not\n",
        "\n",
        "# Verify the extracted features\n",
        "print(austin_data[['local_15min', 'hour', 'day_of_week', 'is_weekend']].head())\n",
        "\n"
      ],
      "metadata": {
        "colab": {
          "base_uri": "https://localhost:8080/"
        },
        "id": "g1-52NAgOvHC",
        "outputId": "418dc970-f780-47d6-f633-e5657799d29f"
      },
      "execution_count": null,
      "outputs": [
        {
          "output_type": "stream",
          "name": "stdout",
          "text": [
            "                local_15min  hour  day_of_week  is_weekend\n",
            "0 2018-11-21 21:15:00+00:00    21            2           0\n",
            "1 2018-11-21 21:30:00+00:00    21            2           0\n",
            "2 2018-11-21 21:45:00+00:00    21            2           0\n",
            "3 2018-11-21 22:00:00+00:00    22            2           0\n",
            "4 2018-11-21 22:15:00+00:00    22            2           0\n"
          ]
        }
      ]
    },
    {
      "cell_type": "markdown",
      "source": [
        "**Step 5: Feature Selection and Model Preparation**\n",
        "Select your features and prepare the data for model training by splitting it into training and testing sets."
      ],
      "metadata": {
        "id": "X3aCX3BEPMgJ"
      }
    },
    {
      "cell_type": "code",
      "source": [
        "# Feature Selection\n",
        "features = ['total_energy', 'hour', 'is_weekend']\n",
        "X = austin_data[features]\n",
        "y = austin_data['has_ev']\n",
        "\n",
        "# Splitting the dataset into training (80%) and testing (20%) sets\n",
        "X_train, X_test, y_train, y_test = train_test_split(X, y, test_size=0.2, random_state=42)\n"
      ],
      "metadata": {
        "id": "0JSiJH7aPOtt"
      },
      "execution_count": null,
      "outputs": []
    },
    {
      "cell_type": "markdown",
      "source": [
        "**Step 6: Model Training and Evaluation**\n",
        "Train a Random Forest Classifier with the selected features and evaluate its performance."
      ],
      "metadata": {
        "id": "CZOVo-ejPnUD"
      }
    },
    {
      "cell_type": "code",
      "source": [
        "# Train the model\n",
        "rf = RandomForestClassifier(n_estimators=100, random_state=42)\n",
        "rf.fit(X_train, y_train)\n",
        "print(\"Model training complete.\")\n",
        "\n",
        "# Predictions\n",
        "y_pred = rf.predict(X_test)\n",
        "\n",
        "# Model evaluation\n",
        "accuracy = accuracy_score(y_test, y_pred)\n",
        "print(f\"Model Accuracy: {accuracy:.2f}\")\n",
        "print(\"Classification Report:\\n\", classification_report(y_test, y_pred))\n",
        "\n",
        "# ROC Curve and AUC\n",
        "y_pred_proba = rf.predict_proba(X_test)[:, 1]\n",
        "roc_auc = roc_auc_score(y_test, y_pred_proba)\n",
        "fpr, tpr, thresholds = roc_curve(y_test, y_pred_proba)\n",
        "plt.figure()\n",
        "plt.plot(fpr, tpr, label=f'ROC curve (area = {roc_auc:.2f})')\n",
        "plt.plot([0, 1], [0, 1], 'k--')\n",
        "plt.xlim([0.0, 1.0])\n",
        "plt.ylim([0.0, 1.05])\n",
        "plt.xlabel('False Positive Rate')\n",
        "plt.ylabel('True Positive Rate')\n",
        "plt.title('Receiver Operating Characteristic')\n",
        "plt.legend(loc=\"lower right\")\n",
        "plt.show()\n"
      ],
      "metadata": {
        "colab": {
          "base_uri": "https://localhost:8080/",
          "height": 680
        },
        "id": "1IfxVs9mPrX5",
        "outputId": "117d6092-ce0a-4169-c606-a509cd4f9827"
      },
      "execution_count": null,
      "outputs": [
        {
          "output_type": "stream",
          "name": "stdout",
          "text": [
            "Model training complete.\n",
            "Model Accuracy: 0.63\n",
            "Classification Report:\n",
            "               precision    recall  f1-score   support\n",
            "\n",
            "           0       0.70      0.74      0.72    112391\n",
            "           1       0.48      0.43      0.45     62267\n",
            "\n",
            "    accuracy                           0.63    174658\n",
            "   macro avg       0.59      0.58      0.59    174658\n",
            "weighted avg       0.62      0.63      0.62    174658\n",
            "\n"
          ]
        },
        {
          "output_type": "display_data",
          "data": {
            "text/plain": [
              "<Figure size 640x480 with 1 Axes>"
            ],
            "image/png": "[encoded data removed]"
          },
          "metadata": {}
        }
      ]
    },
    {
      "cell_type": "markdown",
      "source": [
        "**DISCUSSION OF RESULTS:**\n",
        "\n",
        "\n",
        "\n",
        "*   **Model Accuracy:** The accuracy is now 0.63, which is a slight decrease from the previous model's accuracy of 0.66.\n",
        "*   **Precision:** For class 0 (no EV), precision has slightly increased to 0.70 from 0.67, indicating a minor improvement in the accuracy of predictions for houses without an EV. For class 1 (has EV), precision has decreased to 0.48 from 0.56, suggesting that with the additional features, the model is less accurate in predicting houses with an EV.\n",
        "*   **Recall:** The recall for class 0 has decreased to 0.74 from 0.91, and for class 1, it has improved to 0.43 from 0.21. This shows that the model is now better at identifying houses with an EV than before, but worse at correctly identifying houses without an EV.\n",
        "*   **F1-Score:** The F1 score for class 0 decreased to 0.72 from 0.77, while for class 1, it increased to 0.45 from 0.30. The F1 score balances precision and recall, and the increase for class 1 suggests a better balance between these metrics for predicting EVs.\n",
        "\n",
        "**ROC Curve and AUC:**\n",
        "\n",
        "The AUC is 0.63, slightly lower than the previous model's AUC of 0.64. The AUC reflects the model's ability to distinguish between classes; a decrease suggests the model's discriminatory power has slightly reduced with the inclusion of time-based features.\n",
        "\n",
        "**Discussion and Comparison**\n",
        "\n",
        "\n",
        "It appears that adding time-based features had mixed effects on the model's performance:\n",
        "\n",
        "**Improved Recall for EVs:** The model became better at identifying houses with EVs. This improvement could be because the time-based features capture charging patterns that are indicative of EV presence, such as overnight charging.\n",
        "\n",
        "**Decreased Precision for EVs:** The addition of time-based features may have introduced some noise for predicting houses with EVs, leading to more false positives.\n",
        "\n",
        "\n",
        "**Decreased Overall Accuracy and AUC:** The slight decrease in overall accuracy and AUC could be due to the model becoming less specialized in predicting the majority class (no EV) and more generalized across both classes.\n",
        "\n",
        "\n",
        "**Reasons for Performance Changes**\n",
        "\n",
        "\n",
        "\n",
        "*   Complexity of Time-based Patterns: Time-based features can be highly informative but also add complexity. If not modeled correctly, they can lead to the model picking up on noise rather than signal.\n",
        "Overfitting to the Training Data: The model may be overfitting to the training data, which could explain why performance metrics like accuracy and AUC have slightly decreased.\n",
        "\n",
        "*   Data Imbalance Still Impacting Performance: Even with time-based features, the class imbalance in the dataset can still be influencing the model's performance, and further strategies might be required to address this.\n",
        "\n",
        "* Feature Interactions: The interactions between the time-based features and the total energy consumption might not have been captured effectively by the Random Forest, which could benefit from additional fine-tuning.\n"
      ],
      "metadata": {
        "id": "Cy5YLQohOJiU"
      }
    },
    {
      "cell_type": "markdown",
      "source": [
        "NEXT STEPS:\n",
        "\n",
        "Combine the datasets for New York and Austin"
      ],
      "metadata": {
        "id": "mWw5opDlXnT6"
      }
    },
    {
      "cell_type": "code",
      "source": [
        "import pandas as pd\n",
        "\n",
        "# Load Austin dataset\n",
        "austin_data = pd.read_csv('/content/15minute_data_austin.csv')\n",
        "\n",
        "# Load New York dataset\n",
        "ny_data = pd.read_csv('/content/15minute_data_newyork.csv')\n",
        "\n",
        "# Verify the structure of both datasets\n",
        "assert list(austin_data.columns) == list(ny_data.columns), \"Datasets have different structures\"\n",
        "\n",
        "# Combine datasets\n",
        "combined_data = pd.concat([austin_data, ny_data], ignore_index=True)\n",
        "\n",
        "# Sort by 'dataid' and 'local_15min'\n",
        "combined_data.sort_values(by=['dataid', 'local_15min'], inplace=True)\n",
        "\n",
        "print(combined_data.head())\n",
        "\n"
      ],
      "metadata": {
        "id": "DQEKdwKiXqYb",
        "colab": {
          "base_uri": "https://localhost:8080/"
        },
        "outputId": "bdbd3ac3-8618-42e5-a72e-a45b6f48620f"
      },
      "execution_count": null,
      "outputs": [
        {
          "output_type": "stream",
          "name": "stdout",
          "text": [
            "        dataid             local_15min   air1   air2  air3  airwindowunit1  \\\n",
            "991173      27  2019-05-01 00:00:00-05  0.693  0.054   NaN             NaN   \n",
            "991182      27  2019-05-01 00:15:00-05  0.554  0.006   NaN             NaN   \n",
            "991158      27  2019-05-01 00:30:00-05  0.393  0.012   NaN             NaN   \n",
            "991157      27  2019-05-01 00:45:00-05  0.801  0.060   NaN             NaN   \n",
            "991288      27  2019-05-01 01:00:00-05  0.237  0.053   NaN             NaN   \n",
            "\n",
            "        aquarium1  bathroom1  bathroom2  bedroom1  ...  sprinkler1  sumppump1  \\\n",
            "991173        NaN        NaN        NaN       NaN  ...         NaN        NaN   \n",
            "991182        NaN        NaN        NaN       NaN  ...         NaN        NaN   \n",
            "991158        NaN        NaN        NaN       NaN  ...         NaN        NaN   \n",
            "991157        NaN        NaN        NaN       NaN  ...         NaN        NaN   \n",
            "991288        NaN        NaN        NaN       NaN  ...         NaN        NaN   \n",
            "\n",
            "        utilityroom1  venthood1  waterheater1  waterheater2  wellpump1  \\\n",
            "991173           NaN        NaN         0.001           NaN        0.0   \n",
            "991182           NaN        NaN         0.001           NaN        0.0   \n",
            "991158           NaN        NaN         0.001           NaN        0.0   \n",
            "991157           NaN        NaN         0.001           NaN        0.0   \n",
            "991288           NaN        NaN         0.001           NaN        0.0   \n",
            "\n",
            "        winecooler1    leg1v    leg2v  \n",
            "991173          NaN  117.873  117.992  \n",
            "991182          NaN  118.538  118.602  \n",
            "991158          NaN  118.377  118.454  \n",
            "991157          NaN  118.634  118.695  \n",
            "991288          NaN  118.820  118.871  \n",
            "\n",
            "[5 rows x 79 columns]\n"
          ]
        }
      ]
    },
    {
      "cell_type": "markdown",
      "source": [
        "**Step 4: Label the Data**\n",
        "\n",
        "\n",
        "Label the data with a new column that indicates whether the house has an EV. We will also write a function to check if the 'car1' and 'car2' columns have non-zero values to confirm the houses with EVs."
      ],
      "metadata": {
        "id": "Cp0n-qdGYSlo"
      }
    },
    {
      "cell_type": "code",
      "source": [
        "# List of houses with EVs in New York\n",
        "ny_ev_houses = [5679, 1222, 3000, 9053, 27]\n",
        "\n",
        "# List of houses with EVs in Austin\n",
        "austin_ev_houses = [661, 1642, 2335, 4373, 4767, 6139, 7719, 8156, 9278]\n",
        "\n",
        "# Labeling the data with EV presence\n",
        "combined_data['has_ev'] = combined_data['dataid'].apply(lambda x: 1 if x in austin_ev_houses or x in ny_ev_houses else 0)\n",
        "\n",
        "# Verify the labeling is correct\n",
        "print(combined_data.groupby('dataid')['has_ev'].max())  # This will show 1 for houses with EVs and 0 for others\n",
        "\n",
        "# Save the combined data to a CSV file for future use\n",
        "combined_data.to_csv('/content/combined_data.csv', index=False)\n"
      ],
      "metadata": {
        "colab": {
          "base_uri": "https://localhost:8080/"
        },
        "id": "guPyZqZoYPCm",
        "outputId": "6fadcdc5-9f69-413d-f90e-2888eb021b35"
      },
      "execution_count": null,
      "outputs": [
        {
          "output_type": "stream",
          "name": "stdout",
          "text": [
            "dataid\n",
            "27      1\n",
            "142     0\n",
            "387     0\n",
            "558     0\n",
            "661     1\n",
            "914     0\n",
            "950     0\n",
            "1222    1\n",
            "1240    0\n",
            "1417    0\n",
            "1642    1\n",
            "2096    0\n",
            "2318    0\n",
            "2335    1\n",
            "2358    0\n",
            "2361    0\n",
            "2818    0\n",
            "3000    1\n",
            "3039    0\n",
            "3456    0\n",
            "3488    0\n",
            "3517    0\n",
            "3538    0\n",
            "3700    0\n",
            "3996    0\n",
            "4031    0\n",
            "4283    0\n",
            "4373    1\n",
            "4550    0\n",
            "4767    1\n",
            "5058    0\n",
            "5587    0\n",
            "5679    1\n",
            "5746    0\n",
            "5982    0\n",
            "5997    0\n",
            "6139    1\n",
            "7536    0\n",
            "7719    1\n",
            "7800    0\n",
            "7901    0\n",
            "7951    0\n",
            "8156    1\n",
            "8386    0\n",
            "8565    0\n",
            "9019    0\n",
            "9053    1\n",
            "9160    0\n",
            "9278    1\n",
            "9922    0\n",
            "Name: has_ev, dtype: int64\n"
          ]
        }
      ]
    },
    {
      "cell_type": "markdown",
      "source": [
        "**Step 5: Preprocess the Data**\n",
        "\n",
        "Handle missing values, add a 'total_energy' column, and extract time-based features."
      ],
      "metadata": {
        "id": "-bz5G4Vfa2w9"
      }
    },
    {
      "cell_type": "code",
      "source": [
        "# Fill missing values with zeros\n",
        "combined_data.fillna(0, inplace=True)\n",
        "\n",
        "# Add 'total_energy' column\n",
        "energy_columns = [col for col in combined_data.columns if col.startswith('air') or col.startswith('car')]\n",
        "combined_data['total_energy'] = combined_data[energy_columns].sum(axis=1)\n",
        "\n",
        "# Convert 'local_15min' to datetime and extract time-based features\n",
        "combined_data['local_15min'] = pd.to_datetime(combined_data['local_15min'], errors='coerce', utc=True)\n",
        "combined_data['hour'] = combined_data['local_15min'].dt.hour\n",
        "combined_data['day_of_week'] = combined_data['local_15min'].dt.dayofweek\n",
        "combined_data['is_weekend'] = combined_data['day_of_week'].apply(lambda x: 1 if x > 4 else 0)\n"
      ],
      "metadata": {
        "id": "tWfvufYHa6az"
      },
      "execution_count": null,
      "outputs": []
    },
    {
      "cell_type": "markdown",
      "source": [
        "**Step 6: Train the Random Forest Model on Combined Data**\n",
        "\n",
        "Train the Random Forest Classifier using the combined data."
      ],
      "metadata": {
        "id": "zn22tceebEZ7"
      }
    },
    {
      "cell_type": "code",
      "source": [
        "from sklearn.model_selection import train_test_split\n",
        "from sklearn.ensemble import RandomForestClassifier\n",
        "from sklearn.metrics import accuracy_score\n",
        "\n",
        "# Select features\n",
        "features = ['total_energy', 'hour', 'is_weekend']\n",
        "X = combined_data[features]\n",
        "y = combined_data['has_ev']\n",
        "\n",
        "print(f\"Features DataFrame (X) dimensions: {X.shape}\")\n",
        "print(f\"Labels DataFrame (y) dimensions: {y.shape}\")\n",
        "\n",
        "# Split the data\n",
        "X_train, X_test, y_train, y_test = train_test_split(X, y, test_size=0.2, random_state=42)\n",
        "\n",
        "# Train the model\n",
        "rf = RandomForestClassifier(n_estimators=100, random_state=42)\n",
        "rf.fit(X_train, y_train)\n",
        "\n",
        "# Predict and evaluate the model\n",
        "y_pred = rf.predict(X_test)\n",
        "accuracy = accuracy_score(y_test, y_pred)\n",
        "print(f\"Model Accuracy on Combined Data: {accuracy:.2f}\")\n"
      ],
      "metadata": {
        "colab": {
          "base_uri": "https://localhost:8080/"
        },
        "id": "HcqfhyU7bDbe",
        "outputId": "3afca494-d8fc-4abc-fecf-088c54a7378f"
      },
      "execution_count": null,
      "outputs": [
        {
          "output_type": "stream",
          "name": "stdout",
          "text": [
            "Features DataFrame (X) dimensions: (1314885, 3)\n",
            "Labels DataFrame (y) dimensions: (1314885,)\n",
            "Model Accuracy on Combined Data: 0.78\n"
          ]
        }
      ]
    },
    {
      "cell_type": "markdown",
      "source": [
        "**Step 7: Evaluate the Results**\n",
        "\n",
        "Evaluate the performance using classification metrics and the ROC curve."
      ],
      "metadata": {
        "id": "4jcSTi3QbSwD"
      }
    },
    {
      "cell_type": "code",
      "source": [
        "from sklearn.metrics import classification_report, roc_auc_score, roc_curve\n",
        "\n",
        "# Classification report\n",
        "print(classification_report(y_test, y_pred))\n",
        "\n",
        "# ROC curve and AUC\n",
        "y_pred_proba = rf.predict_proba(X_test)[:, 1]\n",
        "roc_auc = roc_auc_score(y_test, y_pred_proba)\n",
        "print(f\"ROC AUC Score: {roc_auc:.2f}\")\n",
        "\n",
        "# Plot ROC curve\n",
        "fpr, tpr, thresholds = roc_curve(y_test, y_pred_proba)\n",
        "plt.figure()\n",
        "plt.plot(fpr, tpr, label=f'ROC curve (area = {roc_auc:.2f})')\n",
        "plt.plot([0, 1], [0, 1], 'k--')\n",
        "plt.xlabel('False Positive Rate')\n",
        "plt.ylabel('True Positive Rate')\n",
        "plt.title('ROC Curve for Combined Data')\n",
        "plt.legend(loc=\"lower right\")\n",
        "plt.show()\n"
      ],
      "metadata": {
        "colab": {
          "base_uri": "https://localhost:8080/",
          "height": 646
        },
        "id": "FoxYb6AtbVYq",
        "outputId": "44621340-7063-4c28-b743-773a544c4502"
      },
      "execution_count": null,
      "outputs": [
        {
          "output_type": "stream",
          "name": "stdout",
          "text": [
            "              precision    recall  f1-score   support\n",
            "\n",
            "           0       0.85      0.84      0.84    182886\n",
            "           1       0.64      0.65      0.65     80091\n",
            "\n",
            "    accuracy                           0.78    262977\n",
            "   macro avg       0.74      0.75      0.74    262977\n",
            "weighted avg       0.78      0.78      0.78    262977\n",
            "\n",
            "ROC AUC Score: 0.82\n"
          ]
        },
        {
          "output_type": "display_data",
          "data": {
            "text/plain": [
              "<Figure size 640x480 with 1 Axes>"
            ],
            "image/png": "[encoded data removed]"
          },
          "metadata": {}
        }
      ]
    },
    {
      "cell_type": "markdown",
      "source": [
        "**DISCUSSION OF RESULTS:**\n",
        "\n",
        "\n",
        "\n",
        "*   **Model Accuracy:** There's an increase in overall accuracy from 0.63 to 0.78. This significant jump suggests that the model is better at generalizing when it has more data to learn from, which reduces overfitting to the patterns specific to the Austin dataset.\n",
        "\n",
        "*   **Precision and Recall:**\n",
        "\n",
        "    * For class 0 (no EV), precision has increased from 0.70 to 0.85, and recall has also increased from 0.74 to 0.84. The increase in both precision and recall for class 0 suggests that with more varied data from different geographic areas, the model has learned a more accurate representation of the no-EV class.\n",
        "\n",
        "    * For class 1 (has EV), precision has increased from 0.48 to 0.64, and recall has gone up from 0.43 to 0.65. These improvements are substantial and indicate that the model is not only more accurate in predicting houses with EVs but also better at detecting the majority of actual EV cases.\n",
        "\n",
        "* **F1-Score:** The F1-score for class 1 improved from 0.45 to 0.65, reflecting a better balance between precision and recall for the minority class. This improvement is particularly important in the context of imbalanced datasets where the minority class is often underrepresented.\n",
        "\n",
        "* **ROC AUC Score:** An increase from 0.64 to 0.82 in the AUC score shows that the model's ability to distinguish between classes has significantly improved. This suggests that the combination of data from different cities has possibly introduced more distinctive patterns that help identify the presence of EVs more accurately.\n",
        "\n",
        "**Reasons for Improved Performance**\n",
        "\n",
        "\n",
        "* **Diversity of Data:** By combining data from Austin and New York, the model has access to a wider variety of household energy patterns, which may differ due to regional behaviors, climate, and other factors.\n",
        "\n",
        "* **Increased Data Volume:** More data provides the model with more examples to learn from, which generally leads to better generalization and performance on unseen data.\n",
        "\n",
        "* **Reduction in Overfitting:** The broader dataset reduces the model's risk of overfitting to the specific patterns present in the Austin data, enabling it to capture more general patterns that are indicative of EVs across different regions.\n",
        "\n",
        "**Potential Flaws with the New Model**\n",
        "\n",
        "* **Remaining Data Imbalance:** Despite the improvement, there's still a class imbalance that could be affecting the model's performance, especially for class 1 (has EV). This might be mitigated through resampling techniques or adjusting class weights.\n",
        "\n",
        "* **Complex Interactions Not Captured:** The Random Forest model may still not be capturing all the complex interactions between features, especially temporal ones that might be better modeled with sequential models like RNNs.\n",
        "\n",
        "* **Feature Engineering:** There might still be room for creating more informative features from the data, such as using domain knowledge to identify specific time slots associated with EV charging or household activities.\n",
        "\n",
        "**NEXT STEPS:**\n",
        "\n",
        "* Use ATCO's data alongside the above data to train and test the model.\n",
        "\n",
        "* Model Experimentation: Explore more complex models, especially those that can model time-series data more effectively.\n",
        "\n",
        "* Address Imbalance: Apply techniques like SMOTE for oversampling the minority class or adjust class weights within the model.\n",
        "\n",
        "* Regional Feature Engineering: Develop features that capture regional differences, possibly by including weather data, which can affect energy usage patterns.\n",
        "\n"
      ],
      "metadata": {
        "id": "xb00sp_od-vQ"
      }
    }
  ]
}